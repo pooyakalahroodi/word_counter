{
 "cells": [
  {
   "cell_type": "markdown",
   "metadata": {},
   "source": [
    
    "### Word Counter"
   ]
  },
  {
   "cell_type": "markdown",
   "metadata": {},
   "source": [
    "### Part A :"
   ]
  },
  {
   "cell_type": "code",
   "execution_count": 15,
   "metadata": {},
   "outputs": [],
   "source": [
    "import re\n",
    "import string \n",
    "import collections"
   ]
  },
  {
   "cell_type": "markdown",
   "metadata": {},
   "source": [
    "opening and reading the file :"
   ]
  },
  {
   "cell_type": "code",
   "execution_count": 16,
   "metadata": {},
   "outputs": [],
   "source": [
    "# initializing string  \n",
    "text = ''\n",
    "f = open(\"random_text.txt\", \"r\")\n",
    "if f.mode == 'r':\n",
    "    text = f.read()"
   ]
  },
  {
   "cell_type": "markdown",
   "metadata": {},
   "source": [
    "By using regex library, we can remove punctuations and all other useless parts of the text and replace them with space. Then by the help of replace function, I replaced 'the' with space :"
   ]
  },
  {
   "cell_type": "code",
   "execution_count": 17,
   "metadata": {},
   "outputs": [],
   "source": [
    "text = re.sub(r\"[^a-zA-Z0-9]+\", ' ', text)\n",
    "text = text.replace(\"the\",\"\")\n"
   ]
  },
  {
   "cell_type": "markdown",
   "metadata": {},
   "source": [
    "I used a dictionary to save the times that each word is being repeated in the text."
   ]
  },
  {
   "cell_type": "code",
   "execution_count": 18,
   "metadata": {},
   "outputs": [],
   "source": [
    "dictionary = dict()\n",
    "words = text.split()\n",
    "\n",
    "for word in words: \n",
    "    if word in dictionary:\n",
    "        dictionary[word]= dictionary[word]+1\n",
    "    else:\n",
    "        dictionary[word] = 1"
   ]
  },
  {
   "cell_type": "markdown",
   "metadata": {},
   "source": [
    " Then I removed the words 'a' 'an' 'be' from the dictionary. However, this method works for English text and the random text file that we have here is not in nglish:"
   ]
  },
  {
   "cell_type": "code",
   "execution_count": 19,
   "metadata": {},
   "outputs": [],
   "source": [
    "if 'an' in dictionary:\n",
    "    del dictionary['an']\n",
    "if 'a' in dictionary:\n",
    "    del dictionary['a']\n",
    "if 'be' in dictionary:\n",
    "    del dictionary['be']\n"
   ]
  },
  {
   "cell_type": "markdown",
   "metadata": {},
   "source": [
    "The number of unique words : "
   ]
  },
  {
   "cell_type": "code",
   "execution_count": 20,
   "metadata": {},
   "outputs": [
    {
     "name": "stdout",
     "output_type": "stream",
     "text": [
      "Lorem : 1\n",
      "ipsum : 2\n",
      "dolor : 4\n",
      "sit : 8\n",
      "amet : 8\n",
      "consectetur : 4\n",
      "adipiscing : 1\n",
      "elit : 8\n",
      "Donec : 7\n",
      "in : 9\n",
      "erat : 1\n",
      "maximus : 3\n",
      "eleifend : 2\n",
      "ante : 9\n",
      "eget : 6\n",
      "feugiat : 4\n",
      "libero : 3\n",
      "Maecenas : 3\n",
      "vel : 6\n",
      "pharetra : 2\n",
      "orci : 3\n",
      "Morbi : 1\n",
      "vitae : 5\n",
      "finibus : 5\n",
      "augue : 4\n",
      "Nunc : 3\n",
      "ac : 2\n",
      "lacus : 3\n",
      "efficitur : 3\n",
      "Cras : 2\n",
      "sed : 8\n",
      "urna : 4\n",
      "non : 8\n",
      "ex : 4\n",
      "luctus : 3\n",
      "imperdiet : 2\n",
      "Sed : 4\n",
      "eu : 9\n",
      "volutpat : 3\n",
      "nunc : 3\n",
      "et : 3\n",
      "tellus : 4\n",
      "purus : 1\n",
      "ultricies : 3\n",
      "leo : 2\n",
      "iaculis : 4\n",
      "gravida : 1\n",
      "molestie : 4\n",
      "tortor : 3\n",
      "nec : 6\n",
      "laoreet : 1\n",
      "lectus : 6\n",
      "sollicitudin : 1\n",
      "Duis : 4\n",
      "at : 9\n",
      "diam : 4\n",
      "tincidunt : 4\n",
      "metus : 4\n",
      "placerat : 3\n",
      "commodo : 4\n",
      "ut : 5\n",
      "risus : 4\n",
      "Curabitur : 1\n",
      "fermentum : 1\n",
      "justo : 3\n",
      "mauris : 4\n",
      "Fusce : 4\n",
      "auctor : 2\n",
      "massa : 2\n",
      "condimentum : 4\n",
      "enim : 5\n",
      "interdum : 4\n",
      "varius : 3\n",
      "pellentesque : 2\n",
      "mi : 2\n",
      "lacinia : 1\n",
      "malesuada : 1\n",
      "magna : 2\n",
      "hendrerit : 2\n",
      "id : 5\n",
      "fringilla : 1\n",
      "Suspendisse : 1\n",
      "nisl : 4\n",
      "rutrum : 4\n",
      "congue : 1\n",
      "odio : 2\n",
      "Vestibulum : 2\n",
      "vestibulum : 2\n",
      "facilisis : 3\n",
      "Quisque : 2\n",
      "convallis : 5\n",
      "In : 3\n",
      "pretium : 2\n",
      "velit : 2\n",
      "arcu : 1\n",
      "semper : 2\n",
      "Praesent : 1\n",
      "viverra : 1\n",
      "cursus : 1\n",
      "suscipit : 3\n",
      "tristique : 3\n",
      "mollis : 2\n",
      "ornare : 4\n",
      "Nullam : 4\n",
      "tempor : 4\n",
      "felis : 3\n",
      "neque : 1\n",
      "lobortis : 3\n",
      "sem : 2\n",
      "Aenean : 2\n",
      "... \n",
     
     ]
    }
   ],
   "source": [
    "for k,v in dictionary.items():\n",
    "    print(k, \":\",v)"
   ]
  },
  {
   "cell_type": "raw",
   "metadata": {},
   "source": [
    "Now, by sorting the dictionary, i showed the 5 most frequent words:"
   ]
  },
  {
   "cell_type": "code",
   "execution_count": 28,
   "metadata": {},
   "outputs": [
    {
     "name": "stdout",
     "output_type": "stream",
     "text": [
      "in 9\n",
      "ante 9\n",
      "eu 9\n",
      "at 9\n",
      "sit 8\n"
     ]
    }
   ],
   "source": [
    "i=0\n",
    "for k in sorted(dictionary, key=dictionary.get, reverse=True):\n",
    "    if (i>4):\n",
    "        break\n",
    "    print(k,dictionary[k])\n",
    "    i+=1\n",
    "       "
   ]
  }
 ],
 "metadata": {
  "kernelspec": {
   "display_name": "Python 3",
   "language": "python",
   "name": "python3"
  },
  "language_info": {
   "codemirror_mode": {
    "name": "ipython",
    "version": 3
   },
   "file_extension": ".py",
   "mimetype": "text/x-python",
   "name": "python",
   "nbconvert_exporter": "python",
   "pygments_lexer": "ipython3",
   "version": "3.8.3"
  }
 },
 "nbformat": 4,
 "nbformat_minor": 2
}
