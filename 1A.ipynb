{
 "cells": [
  {
   "cell_type": "code",
   "execution_count": 15,
   "metadata": {},
   "outputs": [],
   "source": [
    "import re\n",
    "import string \n",
    "import collections"
   ]
  },
  {
   "cell_type": "markdown",
   "metadata": {},
   "source": [
    "opening and reading the file :"
   ]
  },
  {
   "cell_type": "code",
   "execution_count": 16,
   "metadata": {},
   "outputs": [],
   "source": [
    "# initializing string  \n",
    "text = ''\n",
    "f = open(\"random_text.txt\", \"r\")\n",
    "if f.mode == 'r':\n",
    "    text = f.read()"
   ]
  },
  {
   "cell_type": "markdown",
   "metadata": {},
   "source": [
    "By using regex library, we can remove punctuations and all other useless parts of the text and replace them with space. Then by the help of replace function, I replaced 'the' with space :"
   ]
  },
  {
   "cell_type": "code",
   "execution_count": 17,
   "metadata": {},
   "outputs": [],
   "source": [
    "text = re.sub(r\"[^a-zA-Z0-9]+\", ' ', text)\n",
    "text = text.replace(\"the\",\"\")\n"
   ]
  },
  {
   "cell_type": "markdown",
   "metadata": {},
   "source": [
    "I used a dictionary to save the times that each word is being repeated in the text."
   ]
  },
  {
   "cell_type": "code",
   "execution_count": 18,
   "metadata": {},
   "outputs": [],
   "source": [
    "dictionary = dict()\n",
    "words = text.split()\n",
    "\n",
    "for word in words: \n",
    "    if word in dictionary:\n",
    "        dictionary[word]= dictionary[word]+1\n",
    "    else:\n",
    "        dictionary[word] = 1"
   ]
  },
  {
   "cell_type": "markdown",
   "metadata": {},
   "source": [
    " Then I removed the words 'a' 'an' 'be' from the dictionary. However, this method works for English text and the random text file that we have here is not in nglish:"
   ]
  },
  {
   "cell_type": "code",
   "execution_count": 19,
   "metadata": {},
   "outputs": [],
   "source": [
    "if 'an' in dictionary:\n",
    "    del dictionary['an']\n",
    "if 'a' in dictionary:\n",
    "    del dictionary['a']\n",
    "if 'be' in dictionary:\n",
    "    del dictionary['be']\n"
   ]
  },
  {
   "cell_type": "markdown",
   "metadata": {},
   "source": [
    "The number of unique words : "
   ]
  },
  {
   "cell_type": "markdown",
   "metadata": {},
   "source": [
    "for k,v in dictionary.items():\n",
    "    print(k, \":\",v)"
   ]
  },
  {
   "cell_type": "raw",
   "metadata": {},
   "source": [
    "Now, by sorting the dictionary, i showed the 5 most frequent words:"
   ]
  },
  {
   "cell_type": "code",
   "execution_count": 28,
   "metadata": {},
   "outputs": [
    {
     "name": "stdout",
     "output_type": "stream",
     "text": [
      "in 9\n",
      "ante 9\n",
      "eu 9\n",
      "at 9\n",
      "sit 8\n"
     ]
    }
   ],
   "source": [
    "i=0\n",
    "for k in sorted(dictionary, key=dictionary.get, reverse=True):\n",
    "    if (i>4):\n",
    "        break\n",
    "    print(k,dictionary[k])\n",
    "    i+=1\n",
    "       "
   ]
  }
 ],
 "metadata": {
  "kernelspec": {
   "display_name": "Python 3",
   "language": "python",
   "name": "python3"
  },
  "language_info": {
   "codemirror_mode": {
    "name": "ipython",
    "version": 3
   },
   "file_extension": ".py",
   "mimetype": "text/x-python",
   "name": "python",
   "nbconvert_exporter": "python",
   "pygments_lexer": "ipython3",
   "version": "3.8.3"
  }
 },
 "nbformat": 4,
 "nbformat_minor": 2
}
